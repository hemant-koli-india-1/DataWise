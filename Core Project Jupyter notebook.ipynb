{
 "cells": [
  {
   "cell_type": "code",
   "execution_count": 481,
   "id": "a30cff8c-eca0-4144-9a3c-506e255f313d",
   "metadata": {},
   "outputs": [],
   "source": [
    "import pandas as pd\n",
    "from pymongo import MongoClient"
   ]
  },
  {
   "cell_type": "code",
   "execution_count": 482,
   "id": "c2d28a29-0ccb-41ac-a666-c2f403506783",
   "metadata": {},
   "outputs": [],
   "source": [
    "MONGO_URI = \"mongodb://localhost:27017\"  \n",
    "DATABASE_NAME = \"data_query_db1\"\n",
    "COLLECTION_NAME = \"csv_data_collection2\"\n",
    "\n",
    "csv_file_path = \"sample_data.csv\"  \n"
   ]
  },
  {
   "cell_type": "code",
   "execution_count": 483,
   "id": "e6de8827-6fd1-4d46-bd7a-d18c61ef5c93",
   "metadata": {},
   "outputs": [
    {
     "name": "stdout",
     "output_type": "stream",
     "text": [
      "10 records inserted into MongoDB.\n"
     ]
    }
   ],
   "source": [
    "client = MongoClient(MONGO_URI)\n",
    "db = client[DATABASE_NAME]\n",
    "collection = db[COLLECTION_NAME]\n",
    "\n",
    "data = pd.read_csv(csv_file_path)\n",
    "data['Discount'] = data['Discount'].str.replace('%', '').astype(int)\n",
    "\n",
    "\n",
    "data_dict = data.to_dict(orient=\"records\")\n",
    "\n",
    "result = collection.delete_many({}) \n",
    "result = collection.insert_many(data_dict)\n",
    "print(f\"{len(result.inserted_ids)} records inserted into MongoDB.\")"
   ]
  },
  {
   "cell_type": "code",
   "execution_count": 484,
   "id": "ed918523-8fbb-494d-8895-57220d6a26c1",
   "metadata": {},
   "outputs": [
    {
     "name": "stdout",
     "output_type": "stream",
     "text": [
      "{'_id': ObjectId('671bf92f9ad718c21d0ac98d'), 'ProductID': 101, 'ProductName': 'Wireless Mouse', 'Category': 'Electronics', 'Price': 25.99, 'Rating': 4.5, 'ReviewCount': 200, 'Stock': 150, 'Discount': 10, 'Brand': 'Logitech', 'LaunchDate': '15-01-2022'}\n",
      "{'_id': ObjectId('671bf92f9ad718c21d0ac98e'), 'ProductID': 102, 'ProductName': 'Gaming Keyboard', 'Category': 'Electronics', 'Price': 75.49, 'Rating': 4.7, 'ReviewCount': 350, 'Stock': 85, 'Discount': 5, 'Brand': 'Corsair', 'LaunchDate': '20-11-2021'}\n",
      "{'_id': ObjectId('671bf92f9ad718c21d0ac98f'), 'ProductID': 103, 'ProductName': 'Noise Cancelling Headphones', 'Category': 'Electronics', 'Price': 199.99, 'Rating': 4.8, 'ReviewCount': 125, 'Stock': 60, 'Discount': 15, 'Brand': 'Sony', 'LaunchDate': '05-09-2021'}\n",
      "{'_id': ObjectId('671bf92f9ad718c21d0ac990'), 'ProductID': 104, 'ProductName': 'Running Shoes', 'Category': 'Sports', 'Price': 49.99, 'Rating': 4.3, 'ReviewCount': 500, 'Stock': 200, 'Discount': 20, 'Brand': 'Nike', 'LaunchDate': '10-02-2022'}\n",
      "{'_id': ObjectId('671bf92f9ad718c21d0ac991'), 'ProductID': 105, 'ProductName': 'Smartwatch', 'Category': 'Electronics', 'Price': 159.99, 'Rating': 4.6, 'ReviewCount': 220, 'Stock': 45, 'Discount': 10, 'Brand': 'Apple', 'LaunchDate': '30-03-2022'}\n"
     ]
    }
   ],
   "source": [
    "for record in collection.find().limit(5):\n",
    "    print(record)"
   ]
  },
  {
   "cell_type": "code",
   "execution_count": 485,
   "id": "7697a9eb-4045-4041-8519-a1f699e51df6",
   "metadata": {},
   "outputs": [
    {
     "name": "stdout",
     "output_type": "stream",
     "text": [
      "LLM initialized successfully.\n"
     ]
    }
   ],
   "source": [
    "with open('api_key.txt', 'r') as file:\n",
    "    groq_api_key = file.read().strip()  \n",
    "\n",
    "\n",
    "from langchain_groq import ChatGroq\n",
    "\n",
    "llm = ChatGroq(\n",
    "    temperature=0,\n",
    "    groq_api_key=groq_api_key,\n",
    "    model_name=\"llama-3.1-70b-versatile\"\n",
    ")\n",
    "\n",
    "print(\"LLM initialized successfully.\")\n"
   ]
  },
  {
   "cell_type": "code",
   "execution_count": 534,
   "id": "1f7dbfe8-a61f-4dcf-9735-7f8e9827a894",
   "metadata": {},
   "outputs": [
    {
     "name": "stdout",
     "output_type": "stream",
     "text": [
      "User Query: Which products in the Electronics category have a rating of 4.5 or higher and are in stock?\n"
     ]
    }
   ],
   "source": [
    "#user_input = \"Find all products with a rating below 4.5 that have more than 200 reviews and are offered by the brand 'Nike' or 'Sony'.\"\n",
    "user_input =\"Which products in the Electronics category have a rating of 4.5 or higher and are in stock?\"\n",
    "#user_input = \"List products launched after January 1, 2022, in the Home & Kitchen or Sports categories with a discount of 10% or more, sorted by price in descending order.\"\n",
    "print(f\"User Query: {user_input}\")"
   ]
  },
  {
   "cell_type": "code",
   "execution_count": 535,
   "id": "db69c506-d1b0-431f-a732-5b7c2e7f1f28",
   "metadata": {},
   "outputs": [],
   "source": [
    "from langchain_core.prompts import PromptTemplate\n",
    "\n",
    "query_template = PromptTemplate(\n",
    "    input_variables=[\"user_input\"],\n",
    "    template=\n",
    "    '''\n",
    "    Generate a MongoDB query based on the user's request: \"{user_input}\". \n",
    "    ### Instructions: \n",
    "    - Return only the MongoDB query as a string that can be directly fed into MongoDB. \n",
    "    - The output should be syntactically correct for MongoDB operations such as find(), findOne(), aggregate(), etc.\n",
    "    - Use the following schema for reference:\n",
    "    | ProductID | ProductName | Category | Price | Rating | ReviewCount | Stock | Discount | Brand | LaunchDate(DD-MM-YYYY) |\n",
    "    - note that we will be using the query not in javascript but in python so return accordingly and only provide the entire query starting from db.collections.\n",
    "    in string format \n",
    "    \n",
    "    \n",
    "    - The output should reflect valid MongoDB query syntax using double (\"\") and single ('') quotes where necessary.\n",
    "    - do not provide multiple queries only provide one best and optimum query\n",
    "    - Return only the MongoDB query as a string that can be directly fed into MongoDB\n",
    "    - trim the string provide only the query\n",
    "    - Ensure that all dates are formatted as Python datetime objects using the format: \n",
    "      datetime.datetime(year, month, day, hour=0, minute=0, second=0).\n",
    "    ensure all the above points are followed\n",
    "    '''\n",
    ")\n",
    "llm_chain = LLMChain(llm=llm, prompt=query_template)"
   ]
  },
  {
   "cell_type": "code",
   "execution_count": 536,
   "id": "13e58cae-aa51-40d6-9427-0c58757a5974",
   "metadata": {},
   "outputs": [
    {
     "name": "stdout",
     "output_type": "stream",
     "text": [
      "{'user_input': 'Which products in the Electronics category have a rating of 4.5 or higher and are in stock?', 'text': '```\\ndb.collection.find({\"Category\": \"Electronics\", \"Rating\": {\"$gte\": 4.5}, \"Stock\": {\"$gt\": 0}})\\n```'}\n"
     ]
    }
   ],
   "source": [
    "generated_query = llm_chain.invoke(user_input)\n",
    "print(generated_query)\n"
   ]
  },
  {
   "cell_type": "code",
   "execution_count": 537,
   "id": "a905dd8c-03e2-4d89-a9d6-e781d9901ab1",
   "metadata": {
    "scrolled": true
   },
   "outputs": [
    {
     "name": "stdout",
     "output_type": "stream",
     "text": [
      "\n",
      "db.collection.find({\"Category\": \"Electronics\", \"Rating\": {\"$gte\": 4.5}, \"Stock\": {\"$gt\": 0}})\n",
      "\n"
     ]
    },
    {
     "data": {
      "text/plain": [
       "str"
      ]
     },
     "execution_count": 537,
     "metadata": {},
     "output_type": "execute_result"
    }
   ],
   "source": [
    "mongo_query = generated_query['text'].strip('`') \n",
    "\n",
    "print(mongo_query)\n",
    "type(mongo_query)\n"
   ]
  },
  {
   "cell_type": "code",
   "execution_count": 538,
   "id": "2c218d43-d115-407b-b3b1-7725052ef019",
   "metadata": {},
   "outputs": [
    {
     "name": "stdout",
     "output_type": "stream",
     "text": [
      "\n",
      "db.collection.find({\"Category\": \"Electronics\", \"Rating\": {\"$gte\": 4.5}, \"Stock\": {\"$gt\": 0}})\n",
      "\n"
     ]
    }
   ],
   "source": [
    "print(mongo_query)"
   ]
  },
  {
   "cell_type": "code",
   "execution_count": 539,
   "id": "b4e1cbd0-3f60-41b0-9d2a-d1906d16ab78",
   "metadata": {},
   "outputs": [
    {
     "name": "stdout",
     "output_type": "stream",
     "text": [
      "\n",
      "db.collection.find({\"Category\": \"Electronics\", \"Rating\": {\"$gte\": 4.5}, \"Stock\": {\"$gt\": 0}})\n",
      "\n"
     ]
    }
   ],
   "source": [
    "print(mongo_query)"
   ]
  },
  {
   "cell_type": "code",
   "execution_count": 547,
   "id": "f4e0470a-394e-4bb7-b134-fa68063b00b0",
   "metadata": {},
   "outputs": [
    {
     "name": "stdout",
     "output_type": "stream",
     "text": [
      "No ISO dates found in the mongo_query.\n"
     ]
    }
   ],
   "source": [
    "import re\n",
    "from datetime import datetime\n",
    "\n",
    "iso_date_pattern = r'ISODate\\(\"([\\d\\-T:\\.Z]+)\"\\)'\n",
    "\n",
    "def iso_to_datetime(iso_string):\n",
    "    try:\n",
    "        return datetime.strptime(iso_string, \"%Y-%m-%dT%H:%M:%S.%fZ\")\n",
    "    except ValueError:\n",
    "        return datetime.strptime(iso_string, \"%Y-%m-%dT%H:%M:%SZ\")\n",
    "\n",
    "if re.search(iso_date_pattern, mongo_query):\n",
    "    matches = re.findall(iso_date_pattern, mongo_query)\n",
    "    \n",
    "    converted_dates = [iso_to_datetime(match) for match in matches]\n",
    "    \n",
    "    \n",
    "    for match in matches:\n",
    "        mongo_query = mongo_query.replace(f'ISODate(\"{match}\")', f'\"{iso_to_datetime(match)}\"')  \n",
    "\n",
    "    print(\"Converted dates:\", converted_dates)\n",
    "    print(\"Updated mongo_query:\", mongo_query)\n",
    "else:\n",
    "    print(\"No ISO dates found in the mongo_query.\")\n"
   ]
  },
  {
   "cell_type": "code",
   "execution_count": 548,
   "id": "815b861f-6baa-4ad5-a2f7-3f6e052c9da2",
   "metadata": {},
   "outputs": [],
   "source": [
    "import re\n",
    "\n",
    "match = re.search(r'db\\.collection\\.(\\w+)\\((.*)\\)', mongo_query)\n",
    "if match:\n",
    "    method = match.group(1)  \n",
    "    arguments = match.group(2)  \n",
    "else:\n",
    "    raise ValueError(\"Invalid query format\")"
   ]
  },
  {
   "cell_type": "code",
   "execution_count": 549,
   "id": "38c05eb8-a82b-421a-be28-62a490532826",
   "metadata": {},
   "outputs": [
    {
     "data": {
      "text/plain": [
       "'find'"
      ]
     },
     "execution_count": 549,
     "metadata": {},
     "output_type": "execute_result"
    }
   ],
   "source": [
    "method"
   ]
  },
  {
   "cell_type": "code",
   "execution_count": 550,
   "id": "6b0fd576-e839-4509-80d8-70fc662b5487",
   "metadata": {},
   "outputs": [
    {
     "data": {
      "text/plain": [
       "'{\"Category\": \"Electronics\", \"Rating\": {\"$gte\": 4.5}, \"Stock\": {\"$gt\": 0}}'"
      ]
     },
     "execution_count": 550,
     "metadata": {},
     "output_type": "execute_result"
    }
   ],
   "source": [
    "arguments"
   ]
  },
  {
   "cell_type": "code",
   "execution_count": 551,
   "id": "ca77bad1-9d64-4c83-873a-bd4a73610369",
   "metadata": {},
   "outputs": [
    {
     "name": "stdout",
     "output_type": "stream",
     "text": [
      "Retrieved 5 Document(s):\n",
      "Document 1:\n",
      "  _id: 671bf92f9ad718c21d0ac98d\n",
      "  ProductID: 101\n",
      "  ProductName: Wireless Mouse\n",
      "  Category: Electronics\n",
      "  Price: 25.99\n",
      "  Rating: 4.5\n",
      "  ReviewCount: 200\n",
      "  Stock: 150\n",
      "  Discount: 10\n",
      "  Brand: Logitech\n",
      "  LaunchDate: 15-01-2022\n",
      "\n",
      "Document 2:\n",
      "  _id: 671bf92f9ad718c21d0ac98e\n",
      "  ProductID: 102\n",
      "  ProductName: Gaming Keyboard\n",
      "  Category: Electronics\n",
      "  Price: 75.49\n",
      "  Rating: 4.7\n",
      "  ReviewCount: 350\n",
      "  Stock: 85\n",
      "  Discount: 5\n",
      "  Brand: Corsair\n",
      "  LaunchDate: 20-11-2021\n",
      "\n",
      "Document 3:\n",
      "  _id: 671bf92f9ad718c21d0ac98f\n",
      "  ProductID: 103\n",
      "  ProductName: Noise Cancelling Headphones\n",
      "  Category: Electronics\n",
      "  Price: 199.99\n",
      "  Rating: 4.8\n",
      "  ReviewCount: 125\n",
      "  Stock: 60\n",
      "  Discount: 15\n",
      "  Brand: Sony\n",
      "  LaunchDate: 05-09-2021\n",
      "\n",
      "Document 4:\n",
      "  _id: 671bf92f9ad718c21d0ac991\n",
      "  ProductID: 105\n",
      "  ProductName: Smartwatch\n",
      "  Category: Electronics\n",
      "  Price: 159.99\n",
      "  Rating: 4.6\n",
      "  ReviewCount: 220\n",
      "  Stock: 45\n",
      "  Discount: 10\n",
      "  Brand: Apple\n",
      "  LaunchDate: 30-03-2022\n",
      "\n",
      "Document 5:\n",
      "  _id: 671bf92f9ad718c21d0ac995\n",
      "  ProductID: 109\n",
      "  ProductName: Smart TV\n",
      "  Category: Electronics\n",
      "  Price: 399.99\n",
      "  Rating: 4.7\n",
      "  ReviewCount: 150\n",
      "  Stock: 25\n",
      "  Discount: 15\n",
      "  Brand: Samsung\n",
      "  LaunchDate: 10-06-2022\n",
      "\n",
      "Results saved to output_results.csv\n"
     ]
    }
   ],
   "source": [
    "#import pandas as pd\n",
    "\n",
    "try:\n",
    "    if method == \"aggregate\":\n",
    "        results = eval(f\"collection.aggregate({arguments})\")\n",
    "    else:\n",
    "        results = eval(f\"collection.{method}({arguments})\")\n",
    "\n",
    "    documents = []\n",
    "\n",
    "    if method == \"find\":\n",
    "        results_list = list(results)  \n",
    "        if results_list:\n",
    "            print(f\"Retrieved {len(results_list)} Document(s):\")\n",
    "            for idx, document in enumerate(results_list, start=1):\n",
    "                print(f\"Document {idx}:\")\n",
    "                documents.append(document)  \n",
    "                for key, value in document.items():\n",
    "                    print(f\"  {key}: {value}\")\n",
    "                print()  \n",
    "        else:\n",
    "            print(\"No documents found.\")\n",
    "    elif method == \"aggregate\":\n",
    "        results_list = list(results) \n",
    "        if results_list:\n",
    "            print(f\"Aggregation Results: {len(results_list)} Result(s):\")\n",
    "            for idx, doc in enumerate(results_list, start=1):\n",
    "                print(f\"Result {idx}:\")\n",
    "                documents.append(doc)  \n",
    "                for key, value in doc.items():\n",
    "                    print(f\"  {key}: {value}\")\n",
    "                print()  \n",
    "        else:\n",
    "            print(\"No results from aggregation.\")\n",
    "\n",
    "    \n",
    "    df = pd.DataFrame(documents)\n",
    "\n",
    "    \n",
    "    csv_file_name = \"output_results.csv\"\n",
    "    df.to_csv(csv_file_name, index=False)\n",
    "\n",
    "    print(f\"Results saved to {csv_file_name}\")\n",
    "\n",
    "except Exception as e:\n",
    "    print(f\"An error occurred: {e}\")"
   ]
  },
  {
   "cell_type": "code",
   "execution_count": 552,
   "id": "11e9dcc0-df5b-4d12-bcf6-616aa1b1b0fc",
   "metadata": {},
   "outputs": [],
   "source": [
    "query_template2 = PromptTemplate(\n",
    "    input_variables=[\"df\",\"user_input\"],\n",
    "    template=\n",
    "    '''\n",
    "   You are a data analysis assistant with expertise in generating insights from product data. \n",
    "\n",
    "### User Question:\n",
    "{user_input}\n",
    "\n",
    "### Data Overview:\n",
    "Here are the details of the products retrieved based on the user's query:\n",
    "\n",
    "{df}\n",
    "\n",
    "### Task:\n",
    "Based on the user’s question and the provided product data, generate a detailed insight summary. The insights should include:\n",
    "1. The total number of products found that meet the criteria.\n",
    "2. Key performance insights, including ratings, review counts, and pricing.\n",
    "3. Brand performance details, focusing on the brands associated with the products.\n",
    "4. A ranking or evaluation of the products based on the criteria given.\n",
    "5. Suggestions or next steps for the user based on the findings.\n",
    "\n",
    "Please ensure that the insights are clear, concise, and easy for the user to understand, avoiding technical jargon. Format your response in a structured manner similar to the example below:\n",
    "\n",
    "### Example Insight Format:\n",
    "- **Total Products Found:** X\n",
    "- **Product Details:**\n",
    "  - **Product Name:** [Product1 Name]\n",
    "  - **Category:** [Product1 Category]\n",
    "  - **Price:** $[Product1 Price]\n",
    "  - **Rating:** [Product1 Rating]\n",
    "  - **Review Count:** [Product1 Review Count]\n",
    "  - **Brand:** [Product1 Brand]\n",
    "  - **Launch Date:** [Product1 Launch Date]\n",
    "  - *(Repeat for each product found)*\n",
    "  \n",
    "- **Key Insights:**\n",
    "  1. **Overall Performance:** Based on the products found, we have a total of X products that meet your criteria of having a rating below 4.5, more than 200 reviews, and being offered by brands such as Nike or Sony.\n",
    "  2. **Best Performing Product:** The product with the highest rating among those found is [Best Product Name], with a rating of [Best Product Rating] and [Best Product Review Count] reviews.\n",
    "  3. **Lowest Performing Product:** Conversely, the product with the lowest rating is [Lowest Product Name], which has a rating of [Lowest Product Rating] and [Lowest Product Review Count] reviews.\n",
    "  4. **Brand Analysis:** The brand [Most Common Brand] has the most products in this selection, indicating a strong presence in this category.\n",
    "  \n",
    "- **Next Steps:**\n",
    "  - Consider exploring products with higher ratings for better quality options.\n",
    "  - If looking for discounts, check if any of these products are currently on sale or promotion.\n",
    "  - For further details or specific recommendations, feel free to ask!\n",
    "\n",
    "    '''\n",
    ")\n",
    "llm_chain2 = LLMChain(llm=llm, prompt=query_template2)"
   ]
  },
  {
   "cell_type": "code",
   "execution_count": 546,
   "id": "cc19911b-7bc0-4c70-bd00-27024a38f956",
   "metadata": {},
   "outputs": [
    {
     "name": "stdout",
     "output_type": "stream",
     "text": [
      "### Insight Summary:\n",
      "\n",
      "- **Total Products Found:** 5\n",
      "- **Product Details:**\n",
      "  - **Product Name:** Wireless Mouse\n",
      "  - **Category:** Electronics\n",
      "  - **Price:** $25.99\n",
      "  - **Rating:** 4.5\n",
      "  - **Review Count:** 200\n",
      "  - **Brand:** Logitech\n",
      "  - **Launch Date:** 15-01-2022\n",
      "\n",
      "  - **Product Name:** Gaming Keyboard\n",
      "  - **Category:** Electronics\n",
      "  - **Price:** $75.49\n",
      "  - **Rating:** 4.7\n",
      "  - **Review Count:** 350\n",
      "  - **Brand:** Corsair\n",
      "  - **Launch Date:** 20-11-2021\n",
      "\n",
      "  - **Product Name:** Noise Cancelling Headphones\n",
      "  - **Category:** Electronics\n",
      "  - **Price:** $199.99\n",
      "  - **Rating:** 4.8\n",
      "  - **Review Count:** 125\n",
      "  - **Brand:** Sony\n",
      "  - **Launch Date:** 05-09-2021\n",
      "\n",
      "  - **Product Name:** Smartwatch\n",
      "  - **Category:** Electronics\n",
      "  - **Price:** $159.99\n",
      "  - **Rating:** 4.6\n",
      "  - **Review Count:** 220\n",
      "  - **Brand:** Apple\n",
      "  - **Launch Date:** 30-03-2022\n",
      "\n",
      "  - **Product Name:** Smart TV\n",
      "  - **Category:** Electronics\n",
      "  - **Price:** $399.99\n",
      "  - **Rating:** 4.7\n",
      "  - **Review Count:** 150\n",
      "  - **Brand:** Samsung\n",
      "  - **Launch Date:** 10-06-2022\n",
      "\n",
      "- **Key Insights:**\n",
      "  1. **Overall Performance:** Based on the products found, we have a total of 5 products that meet your criteria of having a rating of 4.5 or higher and being in stock.\n",
      "  2. **Best Performing Product:** The product with the highest rating among those found is Noise Cancelling Headphones, with a rating of 4.8 and 125 reviews.\n",
      "  3. **Lowest Performing Product:** Conversely, the product with the lowest rating is Wireless Mouse, which has a rating of 4.5 and 200 reviews.\n",
      "  4. **Brand Analysis:** No single brand dominates this selection, with each product representing a different brand, indicating a diverse range of options in this category.\n",
      "  5. **Pricing Insights:** The prices of these products range from $25.99 to $399.99, with an average price of $152.29.\n",
      "  6. **Review Count Insights:** The review counts of these products range from 125 to 350, with an average review count of 209.\n",
      "\n",
      "- **Product Ranking:**\n",
      "  1. Noise Cancelling Headphones (Rating: 4.8)\n",
      "  2. Gaming Keyboard (Rating: 4.7)\n",
      "  3. Smart TV (Rating: 4.7)\n",
      "  4. Smartwatch (Rating: 4.6)\n",
      "  5. Wireless Mouse (Rating: 4.5)\n",
      "\n",
      "- **Next Steps:**\n",
      "  - Consider exploring products with higher ratings for better quality options.\n",
      "  - If looking for discounts, check if any of these products are currently on sale or promotion.\n",
      "  - For further details or specific recommendations, feel free to ask!\n",
      "  - If you're looking for a specific brand, consider exploring products from brands like Logitech, Corsair, or Sony.\n"
     ]
    }
   ],
   "source": [
    "if not df.empty:\n",
    "    input_data = {\n",
    "        \"df\": df.to_string(),\n",
    "        \"user_input\": user_input\n",
    "    }\n",
    "    generated_insight = llm_chain2.invoke(input_data)  # Convert DataFrame to string\n",
    "    print(generated_insight['text'])"
   ]
  },
  {
   "cell_type": "code",
   "execution_count": null,
   "id": "6e9794ae-a5f9-4193-a27d-b5db59931f88",
   "metadata": {},
   "outputs": [],
   "source": []
  }
 ],
 "metadata": {
  "kernelspec": {
   "display_name": "Python 3 (ipykernel)",
   "language": "python",
   "name": "python3"
  },
  "language_info": {
   "codemirror_mode": {
    "name": "ipython",
    "version": 3
   },
   "file_extension": ".py",
   "mimetype": "text/x-python",
   "name": "python",
   "nbconvert_exporter": "python",
   "pygments_lexer": "ipython3",
   "version": "3.12.2"
  }
 },
 "nbformat": 4,
 "nbformat_minor": 5
}
